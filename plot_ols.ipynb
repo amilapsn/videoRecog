{
 "cells": [
  {
   "cell_type": "code",
   "execution_count": 1,
   "metadata": {},
   "outputs": [],
   "source": [
    "%matplotlib inline"
   ]
  },
  {
   "cell_type": "markdown",
   "metadata": {},
   "source": [
    "\n",
    "# Linear Regression Example\n",
    "\n",
    "This example uses the only the first feature of the `diabetes` dataset, in\n",
    "order to illustrate a two-dimensional plot of this regression technique. The\n",
    "straight line can be seen in the plot, showing how linear regression attempts\n",
    "to draw a straight line that will best minimize the residual sum of squares\n",
    "between the observed responses in the dataset, and the responses predicted by\n",
    "the linear approximation.\n",
    "\n",
    "The coefficients, the residual sum of squares and the variance score are also\n",
    "calculated.\n",
    "\n"
   ]
  },
  {
   "cell_type": "code",
   "execution_count": 2,
   "metadata": {},
   "outputs": [
    {
     "name": "stdout",
     "output_type": "stream",
     "text": [
      "Automatically created module for IPython interactive environment\n",
      "Coefficients: \n",
      " [ 938.23786125]\n",
      "Mean squared error: 2548.07\n",
      "Variance score: 0.47\n"
     ]
    },
    {
     "data": {
      "image/png": "[encoded data removed]",
      "text/plain": [
       "<matplotlib.figure.Figure at 0x1cc17f46668>"
      ]
     },
     "metadata": {},
     "output_type": "display_data"
    }
   ],
   "source": [
    "print(__doc__)\n",
    "\n",
    "\n",
    "# Code source: Jaques Grobler\n",
    "# License: BSD 3 clause\n",
    "\n",
    "\n",
    "import matplotlib.pyplot as plt\n",
    "import numpy as np\n",
    "from sklearn import datasets, linear_model\n",
    "\n",
    "# Load the diabetes dataset\n",
    "diabetes = datasets.load_diabetes()\n",
    "\n",
    "\n",
    "# Use only one feature\n",
    "diabetes_X = diabetes.data[:, np.newaxis, 2]\n",
    "\n",
    "# Split the data into training/testing sets\n",
    "diabetes_X_train = diabetes_X[:-20]\n",
    "diabetes_X_test = diabetes_X[-20:]\n",
    "\n",
    "# Split the targets into training/testing sets\n",
    "diabetes_y_train = diabetes.target[:-20]\n",
    "diabetes_y_test = diabetes.target[-20:]\n",
    "\n",
    "# Create linear regression object\n",
    "regr = linear_model.LinearRegression()\n",
    "\n",
    "# Train the model using the training sets\n",
    "regr.fit(diabetes_X_train, diabetes_y_train)\n",
    "\n",
    "# The coefficients\n",
    "print('Coefficients: \\n', regr.coef_)\n",
    "# The mean squared error\n",
    "print(\"Mean squared error: %.2f\"\n",
    "      % np.mean((regr.predict(diabetes_X_test) - diabetes_y_test) ** 2))\n",
    "# Explained variance score: 1 is perfect prediction\n",
    "print('Variance score: %.2f' % regr.score(diabetes_X_test, diabetes_y_test))\n",
    "\n",
    "# Plot outputs\n",
    "plt.scatter(diabetes_X_test, diabetes_y_test,  color='black')\n",
    "plt.plot(diabetes_X_test, regr.predict(diabetes_X_test), color='blue',\n",
    "         linewidth=3)\n",
    "\n",
    "plt.xticks(())\n",
    "plt.yticks(())\n",
    "\n",
    "plt.show()"
   ]
  },
  {
   "cell_type": "code",
   "execution_count": 4,
   "metadata": {},
   "outputs": [
    {
     "name": "stdout",
     "output_type": "stream",
     "text": [
      "[ 233.   91.  111.  152.  120.   67.  310.   94.  183.   66.  173.   72.\n",
      "   49.   64.   48.  178.  104.  132.  220.   57.]\n"
     ]
    }
   ],
   "source": [
    "print(diabetes_y_test)"
   ]
  },
  {
   "cell_type": "code",
   "execution_count": 5,
   "metadata": {},
   "outputs": [
    {
     "name": "stdout",
     "output_type": "stream",
     "text": [
      "# packages in environment at F:\\Softwares\\Anaconda\\envs\\cntk-py35:\n",
      "#\n",
      "alabaster                 0.7.10                   py35_0  \n",
      "appdirs                   1.4.3                    py35_0    conda-forge\n",
      "astroid                   1.4.9                    py35_0  \n",
      "av                        0.3.3                    py35_1    conda-forge\n",
      "babel                     2.4.0                    py35_0  \n",
      "bleach                    1.5.0                    py35_0  \n",
      "certifi                   2017.4.17                 <pip>\n",
      "cffi                      1.10.0                   py35_0    conda-forge\n",
      "chardet                   3.0.4                    py35_0  \n",
      "chardet                   3.0.4                     <pip>\n",
      "cntk                      2.0                       <pip>\n",
      "colorama                  0.3.9                    py35_0  \n",
      "cycler                    0.10.0                   py35_0  \n",
      "cycler                    0.10.0                    <pip>\n",
      "cython                    0.25.2                   py35_0  \n",
      "decorator                 4.0.11                   py35_0  \n",
      "docutils                  0.13.1                   py35_0  \n",
      "entrypoints               0.2.2                    py35_1  \n",
      "ffmpeg                    3.2.4                         1    conda-forge\n",
      "freetype                  2.7                      vc14_0  [vc14]  conda-forge\n",
      "gym                       0.9.2                     <pip>\n",
      "h5py                      2.7.0               np113py35_0  \n",
      "hdf5                      1.8.15.1                 vc14_4  [vc14]\n",
      "html5lib                  0.999                    py35_0  \n",
      "icu                       57.1                     vc14_0  [vc14]\n",
      "idna                      2.5                       <pip>\n",
      "imagesize                 0.7.1                    py35_0  \n",
      "ipykernel                 4.6.1                    py35_0  \n",
      "ipython                   6.1.0                    py35_0  \n",
      "ipython_genutils          0.2.0                    py35_0  \n",
      "ipywidgets                6.0.0                    py35_0  \n",
      "isort                     4.2.15                   py35_0  \n",
      "jedi                      0.10.2                   py35_2  \n",
      "jinja2                    2.9.6                    py35_0  \n",
      "jpeg                      9b                       vc14_0  [vc14]\n",
      "jsonschema                2.6.0                    py35_0  \n",
      "jupyter                   1.0.0                    py35_3  \n",
      "jupyter_client            5.0.1                    py35_0  \n",
      "jupyter_console           5.1.0                    py35_0  \n",
      "jupyter_contrib_core      0.3.1                    py35_0    conda-forge\n",
      "jupyter_contrib_nbextensions 0.2.8                    py35_1    conda-forge\n",
      "jupyter_core              4.3.0                    py35_0  \n",
      "jupyter_highlight_selected_word 0.0.10                   py35_0    conda-forge\n",
      "jupyter_latex_envs        1.3.8.2                  py35_1    conda-forge\n",
      "jupyter_nbextensions_configurator 0.2.5                    py35_0    conda-forge\n",
      "khronos-opencl-icd-loader 2016.10.12                    0    conda-forge\n",
      "lazy-object-proxy         1.3.1                    py35_0  \n",
      "libpng                    1.6.27                   vc14_0  [vc14]\n",
      "libtiff                   4.0.6                    vc14_7  [vc14]  conda-forge\n",
      "mako                      1.0.7                    py35_0    conda-forge\n",
      "markupsafe                0.23                     py35_2  \n",
      "matplotlib                2.0.2               np113py35_0  \n",
      "matplotlib                2.0.2                     <pip>\n",
      "mistune                   0.7.4                    py35_0  \n",
      "mkl                       2017.0.1                      0  \n",
      "nbconvert                 5.2.1                    py35_0  \n",
      "nbformat                  4.3.0                    py35_0  \n",
      "networkx                  1.11                     py35_0  \n",
      "notebook                  5.0.0                    py35_0  \n",
      "numpy                     1.13.0                   py35_0  \n",
      "numpydoc                  0.6.0                    py35_0  \n",
      "olefile                   0.44                     py35_0    conda-forge\n",
      "olefile                   0.44                      <pip>\n",
      "openssl                   1.0.2l                   vc14_0  [vc14]\n",
      "pandas                    0.20.2                    <pip>\n",
      "pandas-datareader         0.4.0                     <pip>\n",
      "pandocfilters             1.4.1                    py35_0  \n",
      "path.py                   10.3.1                   py35_0  \n",
      "pep8                      1.7.0                    py35_0  \n",
      "pickleshare               0.7.4                    py35_0  \n",
      "Pillow                    4.1.1                     <pip>\n",
      "pillow                    4.2.1                    py35_0    conda-forge\n",
      "pip                       9.0.1                    py35_1  \n",
      "prompt_toolkit            1.0.14                   py35_0  \n",
      "psutil                    5.2.2                    py35_0  \n",
      "py                        1.4.34                   py35_0    anaconda\n",
      "pycparser                 2.18                     py35_0    conda-forge\n",
      "pycuda                    2017.1+cuda8061           <pip>\n",
      "pyflakes                  1.5.0                    py35_0  \n",
      "pyglet                    1.2.4                     <pip>\n",
      "pygments                  2.2.0                    py35_0  \n",
      "pylint                    1.6.4                    py35_1  \n",
      "pyopencl                  2017.2                   py35_0    conda-forge\n",
      "pyparsing                 2.2.0                     <pip>\n",
      "pyparsing                 2.1.4                    py35_0  \n",
      "pyqt                      5.6.0                    py35_2  \n",
      "pytest                    3.1.2                    py35_0    anaconda\n",
      "python                    3.5.3                         3  \n",
      "python-dateutil           2.6.0                    py35_0  \n",
      "pytools                   2017.4                   py35_0    conda-forge\n",
      "pytz                      2017.2                    <pip>\n",
      "pytz                      2017.2                   py35_0  \n",
      "pywavelets                0.5.2               np113py35_0  \n",
      "pyyaml                    3.12                     py35_1    conda-forge\n",
      "pyzmq                     16.0.2                   py35_0  \n",
      "qt                        5.6.2                    vc14_4  [vc14]\n",
      "qtawesome                 0.4.4                    py35_0  \n",
      "qtconsole                 4.3.0                    py35_0  \n",
      "qtpy                      1.2.1                    py35_0  \n",
      "requests                  2.14.2                   py35_0  \n",
      "requests                  2.18.1                    <pip>\n",
      "requests-file             1.4.2                     <pip>\n",
      "requests-ftp              0.3.1                     <pip>\n",
      "rope                      0.9.4                    py35_1  \n",
      "scikit-image              0.13.0              np113py35_0  \n",
      "scikit-learn              0.18.2              np113py35_0  \n",
      "scipy                     0.19.0              np113py35_0  \n",
      "seaborn                   0.7.1                     <pip>\n",
      "setuptools                27.2.0                   py35_1  \n",
      "simplegeneric             0.8.1                    py35_1  \n",
      "sip                       4.18                     py35_0  \n",
      "six                       1.10.0                   py35_0  \n",
      "sk-video                  1.1.8                     <pip>\n",
      "snowballstemmer           1.2.1                    py35_0  \n",
      "sphinx                    1.6.2                    py35_0  \n",
      "sphinxcontrib             1.0                      py35_0  \n",
      "sphinxcontrib-websupport  1.0.1                    py35_0  \n",
      "spyder                    3.1.4                    py35_0  \n",
      "testpath                  0.3.1                    py35_0  \n",
      "tk                        8.5.18                   vc14_0  [vc14]\n",
      "tornado                   4.5.1                    py35_0  \n",
      "traitlets                 4.3.2                    py35_0  \n",
      "urllib3                   1.21.1                    <pip>\n",
      "vc                        14                            0    conda-forge\n",
      "vs2015_runtime            14.0.25420                    0  \n",
      "wcwidth                   0.1.7                    py35_0  \n",
      "wheel                     0.29.0                   py35_0  \n",
      "widgetsnbextension        2.0.0                    py35_0  \n",
      "win_unicode_console       0.5                      py35_0  \n",
      "wrapt                     1.10.10                  py35_0  \n",
      "yaml                      0.1.6                    vc14_0  [vc14]  conda-forge\n",
      "zlib                      1.2.8                    vc14_3  [vc14]\n"
     ]
    }
   ],
   "source": [
    "!conda list"
   ]
  },
  {
   "cell_type": "code",
   "execution_count": null,
   "metadata": {
    "collapsed": true
   },
   "outputs": [],
   "source": []
  }
 ],
 "metadata": {
  "kernelspec": {
   "display_name": "Python 3",
   "language": "python",
   "name": "python3"
  },
  "language_info": {
   "codemirror_mode": {
    "name": "ipython",
    "version": 3
   },
   "file_extension": ".py",
   "mimetype": "text/x-python",
   "name": "python",
   "nbconvert_exporter": "python",
   "pygments_lexer": "ipython3",
   "version": "3.5.3"
  }
 },
 "nbformat": 4,
 "nbformat_minor": 1
}
