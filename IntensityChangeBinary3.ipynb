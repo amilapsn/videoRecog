{
 "cells": [
  {
   "cell_type": "code",
   "execution_count": 2,
   "metadata": {
    "collapsed": true
   },
   "outputs": [],
   "source": [
    "import skvideo.io\n",
    "import skimage.io\n",
    "from skimage import color,exposure,transform,filters\n",
    "import skvideo.datasets\n",
    "import numpy as np\n",
    "import matplotlib.pyplot as plt\n",
    "%matplotlib inline\n",
    "from time import time\n",
    "import sklearn"
   ]
  },
  {
   "cell_type": "markdown",
   "metadata": {},
   "source": [
    "#### function:frameCountError"
   ]
  },
  {
   "cell_type": "code",
   "execution_count": 3,
   "metadata": {
    "collapsed": true
   },
   "outputs": [],
   "source": [
    "def frameCountError(reader,n):\n",
    "    # get total number of frames in the video\n",
    "    T = reader.getShape()[0]\n",
    "    # give error if n>T\n",
    "    if n>T:\n",
    "        reader.close()\n",
    "        raise ValueError(\"n should be less than or equal to %i, the total number frames in the video\"%T)"
   ]
  },
  {
   "cell_type": "markdown",
   "metadata": {},
   "source": [
    "#### function:getName"
   ]
  },
  {
   "cell_type": "code",
   "execution_count": 4,
   "metadata": {
    "collapsed": true
   },
   "outputs": [],
   "source": [
    "def getName(variable):\n",
    "    for k,v in list(globals().items()):\n",
    "        if v is variable:\n",
    "            return k"
   ]
  },
  {
   "cell_type": "markdown",
   "metadata": {},
   "source": [
    "# Algorithm 3\n",
    "![](lgo3.svg)"
   ]
  },
  {
   "cell_type": "markdown",
   "metadata": {},
   "source": [
    "This comparison involves both temporal and spacial factors. This is a one way we can merge Algo1 and Algo2."
   ]
  },
  {
   "cell_type": "markdown",
   "metadata": {},
   "source": [
    "Load the video paths"
   ]
  },
  {
   "cell_type": "code",
   "execution_count": 5,
   "metadata": {
    "collapsed": true
   },
   "outputs": [],
   "source": [
    "adPath = \"D:/Ads/seperate trims/\"\n",
    "ads = [adPath+\"ADD_%i.mp4\"%i for i in range(1,9,1)]            # ads small size\n",
    "g_ads = [\"g_ad_%i.mp4\"%i for i in range(1,9,1)]                # Gamma-corrected ads\n",
    "\n",
    "vidPath = \"D:/Users/ASUS/Documents/Adobe/Premiere Pro/9.0/\"\n",
    "vids = [vidPath+\"ad%i.mp4\"%i for i in range(1,9,1)]            # ads original size\n",
    "nVids = [\"nVid%i.mp4\"%i for i in range(1,9,1)]                 # sigma = 5\n",
    "nVids2 = [\"nVid2_%i.mp4\"%i for i in range(1,9,1)]              # sigma = 20\n",
    "nVids3 = [\"nVids3_%i.mp4\"%i for i in range(1,9,1)]             # sigma = 1"
   ]
  },
  {
   "cell_type": "markdown",
   "metadata": {},
   "source": [
    "We use `tf2` here."
   ]
  },
  {
   "cell_type": "code",
   "execution_count": 6,
   "metadata": {
    "collapsed": true
   },
   "outputs": [],
   "source": [
    "tf2 = lambda frame: np.transpose(np.rot90(frame))"
   ]
  },
  {
   "cell_type": "markdown",
   "metadata": {},
   "source": [
    "`getChange` function will do the same as in the last 2 algorithms, except for it will take \"`Frame i`\" and \"`Frame i+1`\" as the inputs but it will give change between `rFrame` of \"`Frame i`\" and \"`Frame i+1`\""
   ]
  },
  {
   "cell_type": "code",
   "execution_count": 7,
   "metadata": {
    "collapsed": true
   },
   "outputs": [],
   "source": [
    "def getChangeTf(frame1,frame2,plane,tf):\n",
    "    \"\"\"\n",
    "        this gives 3 outputs regarding the specified plane of rFrame and frame\n",
    "        inc: \n",
    "        dec:\n",
    "        incdec:\n",
    "    \"\"\"\n",
    "    frame1 = frame1[:,:,plane]\n",
    "    frame2 = frame2[:,:,plane]\n",
    "    \n",
    "    # this is the transformation done:\n",
    "    rFrame = tf(frame1)\n",
    "    \n",
    "    inc = (rFrame>frame2)\n",
    "    dec =  (rFrame<frame2)\n",
    "    incdec = np.logical_or(inc, dec)\n",
    "    \n",
    "    return np.array([inc,dec,incdec])"
   ]
  },
  {
   "cell_type": "code",
   "execution_count": 8,
   "metadata": {
    "collapsed": true
   },
   "outputs": [],
   "source": [
    "getChange = lambda frame1, frame2, plane: getChangeTf(frame1,frame2,plane,tf2)"
   ]
  },
  {
   "cell_type": "markdown",
   "metadata": {},
   "source": [
    "`getMatchScore` function will now have to cater for 2 frames  2 videos. In addition we'll make the function more flexible by adding another parameter `k` which is the frame gap between 2 frames that is compared."
   ]
  },
  {
   "cell_type": "markdown",
   "metadata": {},
   "source": [
    "#### function: getMatchScoreExtended"
   ]
  },
  {
   "cell_type": "code",
   "execution_count": 9,
   "metadata": {
    "collapsed": true
   },
   "outputs": [],
   "source": [
    "def getMatchScoreExtended(vid1,vid2,n,k):\n",
    "    \"\"\"give score using first n frames\n",
    "    \"\"\"\n",
    "    reader1 = skvideo.io.FFmpegReader(vid1)\n",
    "    reader2 = skvideo.io.FFmpegReader(vid2)\n",
    "    frameCountError(reader1,n+1)\n",
    "    frameCountError(reader2,n+1)\n",
    "    out = 0\n",
    "    for i in range(n):\n",
    "        frame1Vid1, frame1Vid2 = reader1._readFrame(),reader2._readFrame()\n",
    "        for j in range(k):\n",
    "            frame2Vid1,frame2Vid2 = reader1._readFrame(),reader2._readFrame()\n",
    "        inc1,dec1,incdec1 = getChange(frame1Vid1,frame2Vid1,1)\n",
    "        inc2,dec2,incdec2 = getChange(frame1Vid2,frame2Vid2,1)\n",
    "        interestPoints = np.logical_and(incdec1,incdec2)\n",
    "        cleanInc1,cleanInc2 = np.logical_and(interestPoints,np.array([inc1,inc2])) \n",
    "        incScoreMat = np.logical_xor(cleanInc1,cleanInc2)\n",
    "        incScore = np.sum(incScoreMat)\n",
    "        sumInterest = np.sum(interestPoints)\n",
    "        if incScore:\n",
    "            out += (sumInterest/(incScore))\n",
    "    reader1.close()\n",
    "    reader2.close()\n",
    "    return out    "
   ]
  },
  {
   "cell_type": "markdown",
   "metadata": {},
   "source": [
    "#### stats"
   ]
  },
  {
   "cell_type": "code",
   "execution_count": 10,
   "metadata": {
    "collapsed": true
   },
   "outputs": [],
   "source": [
    "def stats(data):\n",
    "    \"\"\"gives mean and standard deviation of data\"\"\"\n",
    "    mean_data = np.sum(data)/data.size\n",
    "    std_dev_data = np.sqrt(np.sum((data-mean_data)**2)/data.size)\n",
    "    return np.array((mean_data,std_dev_data))"
   ]
  },
  {
   "cell_type": "markdown",
   "metadata": {},
   "source": [
    "#### function:getMatchness"
   ]
  },
  {
   "cell_type": "code",
   "execution_count": 11,
   "metadata": {
    "collapsed": true
   },
   "outputs": [],
   "source": [
    "def getMatchness(matchFunc,list1,list2,n,k):\n",
    "    \"\"\"This function says how good the matchFunc is.\"\"\"\n",
    "    l = []\n",
    "    for i in range(len(list2)):\n",
    "        m = []\n",
    "        for j in range(len(list1)):\n",
    "            score = matchFunc(list1[j],list2[i],n,k)\n",
    "            m.append(score)\n",
    "        l.append(m)\n",
    "    l = np.array(l)\n",
    "    diag = l.diagonal()\n",
    "    mean_diag,std_dev_diag = stats(diag)\n",
    "    cv_diag = std_dev_diag/mean_diag\n",
    "    eye = ~np.eye(l.shape[0],dtype=bool)\n",
    "    ndiag = eye*l\n",
    "    mean_ndiag = np.sum(ndiag)/np.sum(eye)\n",
    "    mean_ndiag_MAT = eye*mean_ndiag\n",
    "    std_dev_ndiag = np.sqrt(np.sum((ndiag-mean_ndiag)**2)/np.sum(eye))\n",
    "    cv_ndiag = std_dev_ndiag/mean_ndiag\n",
    "    print(\"diagonal mean = {0} \\t sd = {1} CV = {2}\".format(mean_diag,\n",
    "                                                std_dev_diag,cv_diag))\n",
    "    print(\"ndiag mean = {0} \\t sd = {1} CV = {2}\".format(mean_ndiag,\n",
    "                                            std_dev_ndiag,cv_ndiag))\n",
    "    heatmap = plt.imshow(l, cmap='hot', interpolation='nearest')\n",
    "    plt.xlabel(\"%s\"%getName(list1))\n",
    "    plt.ylabel(\"%s\"%getName(list2))\n",
    "    plt.colorbar(heatmap)\n",
    "    plt.show()\n",
    "    return mean_diag, std_dev_diag, cv_diag,mean_ndiag,std_dev_ndiag,cv_ndiag"
   ]
  },
  {
   "cell_type": "markdown",
   "metadata": {},
   "source": [
    "### Check the algo"
   ]
  },
  {
   "cell_type": "code",
   "execution_count": 22,
   "metadata": {
    "editable": false,
    "run_control": {
     "frozen": true
    }
   },
   "outputs": [
    {
     "name": "stdout",
     "output_type": "stream",
     "text": [
      "diagonal mean = 46.10904900414798 \t sd = 21.04879464934806 CV = 0.4565002988340642\n",
      "ndiag mean = 2.128984620794339 \t sd = 0.9044409543715312 CV = 0.4248226809802308\n"
     ]
    },
    {
     "data": {
      "image/png": "[encoded data removed]",
      "text/plain": [
       "<matplotlib.figure.Figure at 0x25dbcf9e7f0>"
      ]
     },
     "metadata": {},
     "output_type": "display_data"
    },
    {
     "data": {
      "text/plain": [
       "(46.109049004147977,\n",
       " 21.048794649348061,\n",
       " 0.45650029883406418,\n",
       " 2.128984620794339,\n",
       " 0.90444095437153116,\n",
       " 0.42482268098023079)"
      ]
     },
     "execution_count": 22,
     "metadata": {},
     "output_type": "execute_result"
    }
   ],
   "source": [
    "getMatchness(getMatchScoreExtended,ads,g_ads,1,1)"
   ]
  },
  {
   "cell_type": "markdown",
   "metadata": {
    "collapsed": true
   },
   "source": [
    "The `CV` values clearly depicts how good this algo is. This is achieved with the small overhead of capturing next frame."
   ]
  },
  {
   "cell_type": "code",
   "execution_count": 12,
   "metadata": {
    "collapsed": true
   },
   "outputs": [],
   "source": [
    "def getStats(matchFunc,list1,list2,n,k):\n",
    "    \"\"\"This function says how good the matchFunc is over video lists list1 and list2\n",
    "        using n frames.\n",
    "    .\"\"\"\n",
    "    l = []\n",
    "    for i in range(len(list2)):\n",
    "        m = []\n",
    "        for j in range(len(list1)):\n",
    "            score = matchFunc(list1[j],list2[i],n,k)\n",
    "            m.append(score)\n",
    "        l.append(m)\n",
    "    l = np.array(l)\n",
    "    diag = l.diagonal()\n",
    "    mean_diag,std_dev_diag = stats(diag)\n",
    "    cv_diag = std_dev_diag/mean_diag\n",
    "    eye = ~np.eye(l.shape[0],dtype=bool)\n",
    "    ndiag = eye*l\n",
    "    mean_ndiag = np.sum(ndiag)/np.sum(eye)\n",
    "    mean_ndiag_MAT = eye*mean_ndiag\n",
    "    std_dev_ndiag = np.sqrt(np.sum((ndiag-mean_ndiag)**2)/np.sum(eye))\n",
    "    cv_ndiag = std_dev_ndiag/mean_ndiag\n",
    "    return mean_diag, std_dev_diag, cv_diag,mean_ndiag,std_dev_ndiag,cv_ndiag"
   ]
  },
  {
   "cell_type": "code",
   "execution_count": 15,
   "metadata": {
    "editable": false,
    "run_control": {
     "frozen": true
    },
    "scrolled": true
   },
   "outputs": [
    {
     "data": {
      "image/png": "[encoded data removed]",
      "text/plain": [
       "<matplotlib.figure.Figure at 0x1783827eeb8>"
      ]
     },
     "metadata": {},
     "output_type": "display_data"
    }
   ],
   "source": [
    "l = []\n",
    "frameCount = []\n",
    "for i in range(1,25,1):\n",
    "    frameCount.append(i)\n",
    "    s = getStats(getMatchScoreExtended,vids,nVids,i,1)\n",
    "    l.append(s)\n",
    "l = np.array(l).T\n",
    "plt.plot(frameCount,l[2],'c',label='cv_diag')\n",
    "plt.plot(frameCount,l[5],'b',label='cv_ndiag')\n",
    "plt.legend(loc = \"best\")\n",
    "plt.title(\"How CV changes with number of frames:\")\n",
    "plt.xlabel(\"Number of frames\")\n",
    "plt.ylabel(\"Coefficient of variation\")\n",
    "plt.show()"
   ]
  },
  {
   "cell_type": "markdown",
   "metadata": {},
   "source": [
    "The idea of coefficient of variance may be vague, so a more practical way of looking at data will be observing the minimum and maximum values of the scores of diagonal elements and non diagonal elements of the `l` matrix which is the output of the [`getMatchness`](#getMatchness) function. Let's define a new function to get those statistics."
   ]
  },
  {
   "cell_type": "markdown",
   "metadata": {},
   "source": [
    "#### function: getStats2"
   ]
  },
  {
   "cell_type": "code",
   "execution_count": 13,
   "metadata": {
    "collapsed": true
   },
   "outputs": [],
   "source": [
    "def getStats2(matchFunc, list1,list2,n,k):\n",
    "    \"\"\"returns min & max of diags and ndiags and plots it.\"\"\"\n",
    "    l = []\n",
    "    for i in range(len(list2)):\n",
    "        m = []\n",
    "        for j in range(len(list1)):\n",
    "            score = matchFunc(list1[j],list2[i],n,k)\n",
    "            m.append(score)\n",
    "        l.append(m)\n",
    "    l = np.array(l)\n",
    "    \n",
    "    diag = l.diagonal()\n",
    "    ndiags = [l[i,j] for i in range(l.shape[0]) for j in range(l.shape[1]) if i!=j]\n",
    "    \n",
    "    return min(diag),max(diag),min(ndiags),max(ndiags)   "
   ]
  },
  {
   "cell_type": "markdown",
   "metadata": {},
   "source": [
    "Let's see how those statistics change with respect to number of frames for `ads` and `g_ads`"
   ]
  },
  {
   "cell_type": "code",
   "execution_count": 57,
   "metadata": {
    "editable": false,
    "run_control": {
     "frozen": true
    }
   },
   "outputs": [
    {
     "data": {
      "image/png": "[encoded data removed]",
      "text/plain": [
       "<matplotlib.figure.Figure at 0x25667394cf8>"
      ]
     },
     "metadata": {},
     "output_type": "display_data"
    }
   ],
   "source": [
    "l = []\n",
    "frameCount = []\n",
    "for i in range(1,25,1):\n",
    "    frameCount.append(i)\n",
    "    s = getStats2(getMatchScoreExtended,ads,g_ads,i,1)\n",
    "    l.append(s)\n",
    "l = np.array(l).T\n",
    "plt.plot(frameCount,l[0],'c',label='min_diag')\n",
    "plt.plot(frameCount,l[1],'m',label='max_diag')\n",
    "plt.plot(frameCount,l[2],'y',label='min_ndiag')\n",
    "plt.plot(frameCount,l[3],'k',label='max_ndiag')\n",
    "plt.legend(loc = \"best\")\n",
    "plt.title(\"min max of ndiags and diags\")\n",
    "plt.xlabel(\"Number of frames\")\n",
    "plt.ylabel(\"Score\")\n",
    "plt.show()"
   ]
  },
  {
   "cell_type": "markdown",
   "metadata": {},
   "source": [
    "Since what we are interested in are `min_diag` and `max_ndiag` let's have a close look at them."
   ]
  },
  {
   "cell_type": "code",
   "execution_count": 58,
   "metadata": {
    "editable": false,
    "run_control": {
     "frozen": true
    }
   },
   "outputs": [
    {
     "data": {
      "image/png": "[encoded data removed]",
      "text/plain": [
       "<matplotlib.figure.Figure at 0x256673f27f0>"
      ]
     },
     "metadata": {},
     "output_type": "display_data"
    }
   ],
   "source": [
    "plt.plot(frameCount,l[0],'c',label='min_diag')\n",
    "plt.plot(frameCount,l[3],'k',label='max_ndiag')\n",
    "plt.legend(loc = \"best\")\n",
    "plt.title(\"min max of ndiags and diags\")\n",
    "plt.xlabel(\"Number of frames\")\n",
    "plt.ylabel(\"Score\")\n",
    "plt.show()"
   ]
  },
  {
   "cell_type": "markdown",
   "metadata": {},
   "source": [
    "We can see a clear seperation between the 2 sets. In addition the seperation increases when number of frames considered is increased which is exactly what we expect.\n",
    "\n",
    "Although this looks fine for gamma correction, this may not be the case for noise-corrupted videos. Let's take the specimen `nVids` for which noise behaves $\\cal{N}(0,5)$ and compare it with `vids.`"
   ]
  },
  {
   "cell_type": "code",
   "execution_count": 59,
   "metadata": {
    "editable": false,
    "run_control": {
     "frozen": true
    }
   },
   "outputs": [
    {
     "data": {
      "image/png": "[encoded data removed]",
      "text/plain": [
       "<matplotlib.figure.Figure at 0x25667382dd8>"
      ]
     },
     "metadata": {},
     "output_type": "display_data"
    },
    {
     "data": {
      "image/png": "[encoded data removed]",
      "text/plain": [
       "<matplotlib.figure.Figure at 0x256676b94a8>"
      ]
     },
     "metadata": {},
     "output_type": "display_data"
    }
   ],
   "source": [
    "l = []\n",
    "frameCount = []\n",
    "for i in range(1,25,1):\n",
    "    frameCount.append(i)\n",
    "    s = getStats2(getMatchScoreExtended,vids,nVids,i,1)\n",
    "    l.append(s)\n",
    "l = np.array(l).T\n",
    "plt.plot(frameCount,l[0],'c',label='min_diag')\n",
    "plt.plot(frameCount,l[1],'m',label='max_diag')\n",
    "plt.plot(frameCount,l[2],'y',label='min_ndiag')\n",
    "plt.plot(frameCount,l[3],'k',label='max_ndiag')\n",
    "plt.legend(loc = \"best\")\n",
    "plt.title(\"min max of ndiags and diags\")\n",
    "plt.xlabel(\"Number of frames\")\n",
    "plt.ylabel(\"Score\")\n",
    "plt.show()\n",
    "\n",
    "# closer look\n",
    "plt.plot(frameCount,l[0],'c',label='min_diag')\n",
    "plt.plot(frameCount,l[3],'k',label='max_ndiag')\n",
    "plt.legend(loc = \"best\")\n",
    "plt.title(\"min max of ndiags and diags\")\n",
    "plt.xlabel(\"Number of frames\")\n",
    "plt.ylabel(\"Score\")\n",
    "plt.show()"
   ]
  },
  {
   "cell_type": "markdown",
   "metadata": {},
   "source": [
    "From the above plot it's clear that, at least 14 frames should be considered to get an absolute seperation between `diags` and `ndiags`.\n",
    "\n",
    "Absolute seperation is not necessary in detecting the video. (Absolute seperation: `min_diag`>`max_diag`)\n",
    "\n",
    "> For instance, to identify `ads[0]` when played `g_ads[0]` the maximum of upper most row should be in `(0,0)`. (_see_ [here](#Check-the-algo)). So there's no need to think of the global `min_diag` and `max_ndiag`. \n",
    "\n"
   ]
  },
  {
   "cell_type": "markdown",
   "metadata": {
    "collapsed": true
   },
   "source": [
    "**Definition: Hit**/**Miss** Let the number of videos of interest (i.e. ads) be $n,$ $i\\le n$. If $\\max\\left(l[i]\\right)=l[i][i]$, it's a hit. Otherwise a miss. Here `l` is the [`matchness`](#function:getMatchness) matrix.\n",
    "\n",
    "\n",
    "**Definition: Hit Ratio** $$\\tt Hit\\ Ratio:= \\frac{Hits}{Hits+Misses}$$"
   ]
  },
  {
   "cell_type": "markdown",
   "metadata": {},
   "source": [
    "Define a function to get that once given `l`."
   ]
  },
  {
   "cell_type": "code",
   "execution_count": 14,
   "metadata": {
    "collapsed": true
   },
   "outputs": [],
   "source": [
    "def getHitRatio(l):\n",
    "    \"\"\"l is always a n x n matrix\"\"\"\n",
    "    hits = 0\n",
    "    N = l.shape[0]\n",
    "    for i in range(N):\n",
    "        if l[i][i]==max(l[i]):\n",
    "            hits += 1\n",
    "    return hits/N"
   ]
  },
  {
   "cell_type": "markdown",
   "metadata": {},
   "source": [
    "#### function:get_l\n",
    "This function will return the matchness matrix"
   ]
  },
  {
   "cell_type": "code",
   "execution_count": 16,
   "metadata": {
    "collapsed": true
   },
   "outputs": [],
   "source": [
    "def get_l(matchFunc,list1,list2,n,k):\n",
    "    \"\"\"This function outputs matchness matrix.\"\"\"\n",
    "    l = []\n",
    "    for i in range(len(list2)):\n",
    "        m = []\n",
    "        for j in range(len(list1)):\n",
    "            score = matchFunc(list1[j],list2[i],n,k)\n",
    "            m.append(score)\n",
    "        l.append(m)\n",
    "    l = np.array(l)\n",
    "    return l"
   ]
  },
  {
   "cell_type": "markdown",
   "metadata": {},
   "source": [
    "Now let's see how hit ratio changes with other parameters."
   ]
  }
 ],
 "metadata": {
  "kernelspec": {
   "display_name": "Python 3",
   "language": "python",
   "name": "python3"
  },
  "language_info": {
   "codemirror_mode": {
    "name": "ipython",
    "version": 3
   },
   "file_extension": ".py",
   "mimetype": "text/x-python",
   "name": "python",
   "nbconvert_exporter": "python",
   "pygments_lexer": "ipython3",
   "version": "3.5.3"
  }
 },
 "nbformat": 4,
 "nbformat_minor": 2
}
