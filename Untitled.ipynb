{
 "cells": [
  {
   "cell_type": "code",
   "execution_count": 3,
   "metadata": {
    "collapsed": true
   },
   "outputs": [],
   "source": [
    "from skvideo.io import FFmpegReader,FFmpegWriter\n",
    "vidPath = \"D:/Users/ASUS/Documents/Adobe/Premiere Pro/9.0/\"\n",
    "vids = [vidPath+\"ad%i.mp4\"%i for i in range(1,9,1)]\n",
    "output = 'Interleaved.mp4'"
   ]
  },
  {
   "cell_type": "code",
   "execution_count": 8,
   "metadata": {},
   "outputs": [],
   "source": [
    "reader1 = FFmpegReader(vids[4])\n",
    "reader2 = FFmpegReader(vids[5])\n",
    "writer = FFmpegWriter(output, \n",
    "  inputdict={\n",
    "    \"-r\": \"60\"\n",
    "  })\n",
    "counter = 0\n",
    "for i in range(1500):\n",
    "    if counter==0:\n",
    "        writer.writeFrame(reader1._readFrame())\n",
    "        counter=1\n",
    "    else:\n",
    "        writer.writeFrame(reader2._readFrame())\n",
    "        counter=0\n",
    "reader1.close()\n",
    "reader2.close()\n",
    "writer.close()"
   ]
  },
  {
   "cell_type": "code",
   "execution_count": null,
   "metadata": {
    "collapsed": true
   },
   "outputs": [],
   "source": []
  }
 ],
 "metadata": {
  "kernelspec": {
   "display_name": "Python 3",
   "language": "python",
   "name": "python3"
  },
  "language_info": {
   "codemirror_mode": {
    "name": "ipython",
    "version": 3
   },
   "file_extension": ".py",
   "mimetype": "text/x-python",
   "name": "python",
   "nbconvert_exporter": "python",
   "pygments_lexer": "ipython3",
   "version": "3.5.3"
  }
 },
 "nbformat": 4,
 "nbformat_minor": 2
}
